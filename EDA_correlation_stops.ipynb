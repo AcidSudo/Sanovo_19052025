{
 "cells": [
  {
   "cell_type": "code",
   "execution_count": 1,
   "metadata": {},
   "outputs": [
    {
     "data": {
      "text/html": [
       "<div>\n",
       "<style scoped>\n",
       "    .dataframe tbody tr th:only-of-type {\n",
       "        vertical-align: middle;\n",
       "    }\n",
       "\n",
       "    .dataframe tbody tr th {\n",
       "        vertical-align: top;\n",
       "    }\n",
       "\n",
       "    .dataframe thead th {\n",
       "        text-align: right;\n",
       "    }\n",
       "</style>\n",
       "<table border=\"1\" class=\"dataframe\">\n",
       "  <thead>\n",
       "    <tr style=\"text-align: right;\">\n",
       "      <th></th>\n",
       "      <th>MerId</th>\n",
       "      <th>MerType</th>\n",
       "      <th>MerDate</th>\n",
       "      <th>MerNumber</th>\n",
       "      <th>MerSubNumber</th>\n",
       "      <th>MerData1</th>\n",
       "      <th>MerData2</th>\n",
       "      <th>MerData3</th>\n",
       "      <th>MerData4</th>\n",
       "      <th>MerData5</th>\n",
       "      <th>MerMinId</th>\n",
       "      <th>MerText</th>\n",
       "      <th>MerDeviceType</th>\n",
       "      <th>MerDeviceNumber</th>\n",
       "      <th>MerPriority</th>\n",
       "      <th>MerDateDay</th>\n",
       "    </tr>\n",
       "  </thead>\n",
       "  <tbody>\n",
       "    <tr>\n",
       "      <th>0</th>\n",
       "      <td>11897185</td>\n",
       "      <td>7</td>\n",
       "      <td>2025-01-30 10:22:00</td>\n",
       "      <td>10</td>\n",
       "      <td>22</td>\n",
       "      <td>181.0</td>\n",
       "      <td>180.0</td>\n",
       "      <td>90.0</td>\n",
       "      <td>NaN</td>\n",
       "      <td>NaN</td>\n",
       "      <td>4620</td>\n",
       "      <td>NaN</td>\n",
       "      <td>0</td>\n",
       "      <td>0</td>\n",
       "      <td>0</td>\n",
       "      <td>2025-01-30</td>\n",
       "    </tr>\n",
       "    <tr>\n",
       "      <th>1</th>\n",
       "      <td>11897186</td>\n",
       "      <td>21</td>\n",
       "      <td>2025-01-30 10:21:42</td>\n",
       "      <td>460</td>\n",
       "      <td>12</td>\n",
       "      <td>1.0</td>\n",
       "      <td>22.0</td>\n",
       "      <td>41.0</td>\n",
       "      <td>NaN</td>\n",
       "      <td>NaN</td>\n",
       "      <td>4620</td>\n",
       "      <td>NaN</td>\n",
       "      <td>0</td>\n",
       "      <td>0</td>\n",
       "      <td>0</td>\n",
       "      <td>2025-01-30</td>\n",
       "    </tr>\n",
       "    <tr>\n",
       "      <th>2</th>\n",
       "      <td>11897187</td>\n",
       "      <td>23</td>\n",
       "      <td>2025-01-30 10:21:56</td>\n",
       "      <td>460</td>\n",
       "      <td>12</td>\n",
       "      <td>0.0</td>\n",
       "      <td>0.0</td>\n",
       "      <td>0.0</td>\n",
       "      <td>NaN</td>\n",
       "      <td>NaN</td>\n",
       "      <td>4620</td>\n",
       "      <td>NaN</td>\n",
       "      <td>0</td>\n",
       "      <td>0</td>\n",
       "      <td>0</td>\n",
       "      <td>2025-01-30</td>\n",
       "    </tr>\n",
       "    <tr>\n",
       "      <th>3</th>\n",
       "      <td>11897188</td>\n",
       "      <td>21</td>\n",
       "      <td>2025-01-30 10:21:56</td>\n",
       "      <td>460</td>\n",
       "      <td>12</td>\n",
       "      <td>1.0</td>\n",
       "      <td>22.0</td>\n",
       "      <td>41.0</td>\n",
       "      <td>NaN</td>\n",
       "      <td>NaN</td>\n",
       "      <td>4620</td>\n",
       "      <td>NaN</td>\n",
       "      <td>0</td>\n",
       "      <td>0</td>\n",
       "      <td>0</td>\n",
       "      <td>2025-01-30</td>\n",
       "    </tr>\n",
       "    <tr>\n",
       "      <th>4</th>\n",
       "      <td>11897189</td>\n",
       "      <td>23</td>\n",
       "      <td>2025-01-30 10:21:57</td>\n",
       "      <td>460</td>\n",
       "      <td>12</td>\n",
       "      <td>0.0</td>\n",
       "      <td>0.0</td>\n",
       "      <td>0.0</td>\n",
       "      <td>NaN</td>\n",
       "      <td>NaN</td>\n",
       "      <td>4620</td>\n",
       "      <td>NaN</td>\n",
       "      <td>0</td>\n",
       "      <td>0</td>\n",
       "      <td>0</td>\n",
       "      <td>2025-01-30</td>\n",
       "    </tr>\n",
       "  </tbody>\n",
       "</table>\n",
       "</div>"
      ],
      "text/plain": [
       "      MerId  MerType              MerDate  MerNumber  MerSubNumber  MerData1  \\\n",
       "0  11897185        7  2025-01-30 10:22:00         10            22     181.0   \n",
       "1  11897186       21  2025-01-30 10:21:42        460            12       1.0   \n",
       "2  11897187       23  2025-01-30 10:21:56        460            12       0.0   \n",
       "3  11897188       21  2025-01-30 10:21:56        460            12       1.0   \n",
       "4  11897189       23  2025-01-30 10:21:57        460            12       0.0   \n",
       "\n",
       "   MerData2  MerData3  MerData4  MerData5  MerMinId  MerText  MerDeviceType  \\\n",
       "0     180.0      90.0       NaN       NaN      4620      NaN              0   \n",
       "1      22.0      41.0       NaN       NaN      4620      NaN              0   \n",
       "2       0.0       0.0       NaN       NaN      4620      NaN              0   \n",
       "3      22.0      41.0       NaN       NaN      4620      NaN              0   \n",
       "4       0.0       0.0       NaN       NaN      4620      NaN              0   \n",
       "\n",
       "   MerDeviceNumber  MerPriority  MerDateDay  \n",
       "0                0            0  2025-01-30  \n",
       "1                0            0  2025-01-30  \n",
       "2                0            0  2025-01-30  \n",
       "3                0            0  2025-01-30  \n",
       "4                0            0  2025-01-30  "
      ]
     },
     "execution_count": 1,
     "metadata": {},
     "output_type": "execute_result"
    }
   ],
   "source": [
    "import pandas as pd\n",
    "import numpy as np\n",
    "import seaborn as sns\n",
    "import matplotlib.pyplot as plt\n",
    "\n",
    "df = pd.read_csv('/Users/tyco/Desktop/MADS/sanovo_19052025/data/processed/cleaned_data.csv')\n",
    "df.head()"
   ]
  },
  {
   "cell_type": "markdown",
   "metadata": {},
   "source": [
    "I want to see the correlation between 98 and the machine stops. So an increase in 98 warnings means an increase in machine stops"
   ]
  },
  {
   "cell_type": "code",
   "execution_count": 32,
   "metadata": {},
   "outputs": [
    {
     "name": "stderr",
     "output_type": "stream",
     "text": [
      "/var/folders/pt/00xl4yzd64s0vbx9w9tzh94m0000gn/T/ipykernel_34004/1521156837.py:1: DeprecationWarning: DataFrameGroupBy.apply operated on the grouping columns. This behavior is deprecated, and in a future version of pandas the grouping columns will be excluded from the operation. Either pass `include_groups=False` to exclude the groupings or explicitly select the grouping columns after groupby to silence this warning.\n",
      "  df_agg = df.groupby('MerDateDay').apply(\n"
     ]
    },
    {
     "data": {
      "text/html": [
       "<div>\n",
       "<style scoped>\n",
       "    .dataframe tbody tr th:only-of-type {\n",
       "        vertical-align: middle;\n",
       "    }\n",
       "\n",
       "    .dataframe tbody tr th {\n",
       "        vertical-align: top;\n",
       "    }\n",
       "\n",
       "    .dataframe thead th {\n",
       "        text-align: right;\n",
       "    }\n",
       "</style>\n",
       "<table border=\"1\" class=\"dataframe\">\n",
       "  <thead>\n",
       "    <tr style=\"text-align: right;\">\n",
       "      <th></th>\n",
       "      <th>Total warnings 98</th>\n",
       "      <th>Total errors 96</th>\n",
       "      <th>Total stops lane related</th>\n",
       "    </tr>\n",
       "    <tr>\n",
       "      <th>MerDateDay</th>\n",
       "      <th></th>\n",
       "      <th></th>\n",
       "      <th></th>\n",
       "    </tr>\n",
       "  </thead>\n",
       "  <tbody>\n",
       "    <tr>\n",
       "      <th>2025-01-30</th>\n",
       "      <td>5737</td>\n",
       "      <td>533</td>\n",
       "      <td>413</td>\n",
       "    </tr>\n",
       "    <tr>\n",
       "      <th>2025-01-31</th>\n",
       "      <td>6693</td>\n",
       "      <td>351</td>\n",
       "      <td>247</td>\n",
       "    </tr>\n",
       "    <tr>\n",
       "      <th>2025-02-03</th>\n",
       "      <td>2245</td>\n",
       "      <td>395</td>\n",
       "      <td>356</td>\n",
       "    </tr>\n",
       "    <tr>\n",
       "      <th>2025-02-04</th>\n",
       "      <td>5632</td>\n",
       "      <td>413</td>\n",
       "      <td>301</td>\n",
       "    </tr>\n",
       "    <tr>\n",
       "      <th>2025-02-05</th>\n",
       "      <td>5235</td>\n",
       "      <td>419</td>\n",
       "      <td>385</td>\n",
       "    </tr>\n",
       "  </tbody>\n",
       "</table>\n",
       "</div>"
      ],
      "text/plain": [
       "            Total warnings 98  Total errors 96  Total stops lane related\n",
       "MerDateDay                                                              \n",
       "2025-01-30               5737              533                       413\n",
       "2025-01-31               6693              351                       247\n",
       "2025-02-03               2245              395                       356\n",
       "2025-02-04               5632              413                       301\n",
       "2025-02-05               5235              419                       385"
      ]
     },
     "execution_count": 32,
     "metadata": {},
     "output_type": "execute_result"
    }
   ],
   "source": [
    "df_agg = df.groupby('MerDateDay').apply(\n",
    "    lambda x: pd.Series({\n",
    "        'Total warnings 98': ((x['MerType'] == 22) & (x['MerNumber'] == 98)).sum(),\n",
    "        'Total errors 96': ((x['MerType'] == 21) & (x['MerNumber'] == 96)).sum(),\n",
    "        'Total stops lane related': ((x['MerType'] == 8) & (x['MerNumber'] == 0) & (x['MerSubNumber'] == 2)).sum()\n",
    "        # 'Total stops': ((x['MerType'] == 8) & (x['MerNumber'] == 0)).sum() * 100\n",
    "    })\n",
    ")\n",
    "\n",
    "df_agg.head()"
   ]
  },
  {
   "cell_type": "code",
   "execution_count": 33,
   "metadata": {},
   "outputs": [
    {
     "data": {
      "text/plain": [
       "Total warnings 98           0.316794\n",
       "Total errors 96             0.952670\n",
       "Total stops lane related    1.000000\n",
       "Name: Total stops lane related, dtype: float64"
      ]
     },
     "execution_count": 33,
     "metadata": {},
     "output_type": "execute_result"
    }
   ],
   "source": [
    "df_agg.corr()['Total stops lane related']"
   ]
  },
  {
   "cell_type": "code",
   "execution_count": 14,
   "metadata": {},
   "outputs": [
    {
     "data": {
      "text/plain": [
       "<Axes: xlabel='MerDateDay'>"
      ]
     },
     "execution_count": 14,
     "metadata": {},
     "output_type": "execute_result"
    },
    {
     "data": {
      "image/png": "[encoded data removed]",
      "text/plain": [
       "<Figure size 640x480 with 1 Axes>"
      ]
     },
     "metadata": {},
     "output_type": "display_data"
    }
   ],
   "source": [
    "df_agg.plot(x='MerDateDay', y=['Total warnings 98', 'Total stops'], kind='line')"
   ]
  }
 ],
 "metadata": {
  "kernelspec": {
   "display_name": ".venv",
   "language": "python",
   "name": "python3"
  },
  "language_info": {
   "codemirror_mode": {
    "name": "ipython",
    "version": 3
   },
   "file_extension": ".py",
   "mimetype": "text/x-python",
   "name": "python",
   "nbconvert_exporter": "python",
   "pygments_lexer": "ipython3",
   "version": "3.13.2"
  }
 },
 "nbformat": 4,
 "nbformat_minor": 2
}
