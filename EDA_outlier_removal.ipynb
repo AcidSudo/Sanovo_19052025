{
 "cells": [
  {
   "cell_type": "code",
   "execution_count": 14,
   "metadata": {},
   "outputs": [
    {
     "data": {
      "text/html": [
       "<div>\n",
       "<style scoped>\n",
       "    .dataframe tbody tr th:only-of-type {\n",
       "        vertical-align: middle;\n",
       "    }\n",
       "\n",
       "    .dataframe tbody tr th {\n",
       "        vertical-align: top;\n",
       "    }\n",
       "\n",
       "    .dataframe thead th {\n",
       "        text-align: right;\n",
       "    }\n",
       "</style>\n",
       "<table border=\"1\" class=\"dataframe\">\n",
       "  <thead>\n",
       "    <tr style=\"text-align: right;\">\n",
       "      <th></th>\n",
       "      <th>MerId</th>\n",
       "      <th>MerType</th>\n",
       "      <th>MerDate</th>\n",
       "      <th>MerNumber</th>\n",
       "      <th>MerSubNumber</th>\n",
       "      <th>MerData1</th>\n",
       "      <th>MerData2</th>\n",
       "      <th>MerData3</th>\n",
       "      <th>MerData4</th>\n",
       "      <th>MerData5</th>\n",
       "      <th>MerMinId</th>\n",
       "      <th>MerText</th>\n",
       "      <th>MerDeviceType</th>\n",
       "      <th>MerDeviceNumber</th>\n",
       "      <th>MerPriority</th>\n",
       "    </tr>\n",
       "  </thead>\n",
       "  <tbody>\n",
       "    <tr>\n",
       "      <th>0</th>\n",
       "      <td>11897185</td>\n",
       "      <td>7</td>\n",
       "      <td>2025-01-30 10:22:00.000</td>\n",
       "      <td>10</td>\n",
       "      <td>22</td>\n",
       "      <td>181.0</td>\n",
       "      <td>180.0</td>\n",
       "      <td>90.0</td>\n",
       "      <td>NaN</td>\n",
       "      <td>NaN</td>\n",
       "      <td>4620</td>\n",
       "      <td>NaN</td>\n",
       "      <td>0</td>\n",
       "      <td>0</td>\n",
       "      <td>0</td>\n",
       "    </tr>\n",
       "    <tr>\n",
       "      <th>1</th>\n",
       "      <td>11897186</td>\n",
       "      <td>21</td>\n",
       "      <td>2025-01-30 10:21:42.000</td>\n",
       "      <td>460</td>\n",
       "      <td>12</td>\n",
       "      <td>1.0</td>\n",
       "      <td>22.0</td>\n",
       "      <td>41.0</td>\n",
       "      <td>NaN</td>\n",
       "      <td>NaN</td>\n",
       "      <td>4620</td>\n",
       "      <td>NaN</td>\n",
       "      <td>0</td>\n",
       "      <td>0</td>\n",
       "      <td>0</td>\n",
       "    </tr>\n",
       "    <tr>\n",
       "      <th>2</th>\n",
       "      <td>11897187</td>\n",
       "      <td>23</td>\n",
       "      <td>2025-01-30 10:21:56.000</td>\n",
       "      <td>460</td>\n",
       "      <td>12</td>\n",
       "      <td>0.0</td>\n",
       "      <td>0.0</td>\n",
       "      <td>0.0</td>\n",
       "      <td>NaN</td>\n",
       "      <td>NaN</td>\n",
       "      <td>4620</td>\n",
       "      <td>NaN</td>\n",
       "      <td>0</td>\n",
       "      <td>0</td>\n",
       "      <td>0</td>\n",
       "    </tr>\n",
       "    <tr>\n",
       "      <th>3</th>\n",
       "      <td>11897188</td>\n",
       "      <td>21</td>\n",
       "      <td>2025-01-30 10:21:56.000</td>\n",
       "      <td>460</td>\n",
       "      <td>12</td>\n",
       "      <td>1.0</td>\n",
       "      <td>22.0</td>\n",
       "      <td>41.0</td>\n",
       "      <td>NaN</td>\n",
       "      <td>NaN</td>\n",
       "      <td>4620</td>\n",
       "      <td>NaN</td>\n",
       "      <td>0</td>\n",
       "      <td>0</td>\n",
       "      <td>0</td>\n",
       "    </tr>\n",
       "    <tr>\n",
       "      <th>4</th>\n",
       "      <td>11897189</td>\n",
       "      <td>23</td>\n",
       "      <td>2025-01-30 10:21:57.000</td>\n",
       "      <td>460</td>\n",
       "      <td>12</td>\n",
       "      <td>0.0</td>\n",
       "      <td>0.0</td>\n",
       "      <td>0.0</td>\n",
       "      <td>NaN</td>\n",
       "      <td>NaN</td>\n",
       "      <td>4620</td>\n",
       "      <td>NaN</td>\n",
       "      <td>0</td>\n",
       "      <td>0</td>\n",
       "      <td>0</td>\n",
       "    </tr>\n",
       "  </tbody>\n",
       "</table>\n",
       "</div>"
      ],
      "text/plain": [
       "      MerId  MerType                  MerDate  MerNumber  MerSubNumber  \\\n",
       "0  11897185        7  2025-01-30 10:22:00.000         10            22   \n",
       "1  11897186       21  2025-01-30 10:21:42.000        460            12   \n",
       "2  11897187       23  2025-01-30 10:21:56.000        460            12   \n",
       "3  11897188       21  2025-01-30 10:21:56.000        460            12   \n",
       "4  11897189       23  2025-01-30 10:21:57.000        460            12   \n",
       "\n",
       "   MerData1  MerData2  MerData3  MerData4  MerData5  MerMinId  MerText  \\\n",
       "0     181.0     180.0      90.0       NaN       NaN      4620      NaN   \n",
       "1       1.0      22.0      41.0       NaN       NaN      4620      NaN   \n",
       "2       0.0       0.0       0.0       NaN       NaN      4620      NaN   \n",
       "3       1.0      22.0      41.0       NaN       NaN      4620      NaN   \n",
       "4       0.0       0.0       0.0       NaN       NaN      4620      NaN   \n",
       "\n",
       "   MerDeviceType  MerDeviceNumber  MerPriority  \n",
       "0              0                0            0  \n",
       "1              0                0            0  \n",
       "2              0                0            0  \n",
       "3              0                0            0  \n",
       "4              0                0            0  "
      ]
     },
     "execution_count": 14,
     "metadata": {},
     "output_type": "execute_result"
    }
   ],
   "source": [
    "import pandas as pd\n",
    "import numpy as np\n",
    "import seaborn as sns\n",
    "import matplotlib.pyplot as plt\n",
    "\n",
    "test = pd.read_csv('/Users/tyco/Desktop/MADS/sanovo_19052025/data/raw/HSTMachineError.csv')\n",
    "test.head()"
   ]
  },
  {
   "cell_type": "markdown",
   "metadata": {},
   "source": [
    "Aggregate data by day"
   ]
  },
  {
   "cell_type": "code",
   "execution_count": 15,
   "metadata": {},
   "outputs": [
    {
     "name": "stderr",
     "output_type": "stream",
     "text": [
      "/var/folders/pt/00xl4yzd64s0vbx9w9tzh94m0000gn/T/ipykernel_35249/251424520.py:8: DeprecationWarning: DataFrameGroupBy.apply operated on the grouping columns. This behavior is deprecated, and in a future version of pandas the grouping columns will be excluded from the operation. Either pass `include_groups=False` to exclude the groupings or explicitly select the grouping columns after groupby to silence this warning.\n",
      "  aggregated_data = test.groupby('MerDateDay').apply(\n"
     ]
    },
    {
     "data": {
      "text/html": [
       "<div>\n",
       "<style scoped>\n",
       "    .dataframe tbody tr th:only-of-type {\n",
       "        vertical-align: middle;\n",
       "    }\n",
       "\n",
       "    .dataframe tbody tr th {\n",
       "        vertical-align: top;\n",
       "    }\n",
       "\n",
       "    .dataframe thead th {\n",
       "        text-align: right;\n",
       "    }\n",
       "</style>\n",
       "<table border=\"1\" class=\"dataframe\">\n",
       "  <thead>\n",
       "    <tr style=\"text-align: right;\">\n",
       "      <th></th>\n",
       "      <th>MerDateDay</th>\n",
       "      <th>Total errors</th>\n",
       "      <th>Total warnings</th>\n",
       "      <th>Total settings changed</th>\n",
       "      <th>Total stops lane related</th>\n",
       "      <th>Total stops</th>\n",
       "    </tr>\n",
       "  </thead>\n",
       "  <tbody>\n",
       "    <tr>\n",
       "      <th>0</th>\n",
       "      <td>2025-01-30</td>\n",
       "      <td>2983</td>\n",
       "      <td>10999</td>\n",
       "      <td>862</td>\n",
       "      <td>413</td>\n",
       "      <td>493</td>\n",
       "    </tr>\n",
       "    <tr>\n",
       "      <th>1</th>\n",
       "      <td>2025-01-31</td>\n",
       "      <td>2618</td>\n",
       "      <td>12839</td>\n",
       "      <td>1366</td>\n",
       "      <td>247</td>\n",
       "      <td>312</td>\n",
       "    </tr>\n",
       "    <tr>\n",
       "      <th>2</th>\n",
       "      <td>2025-02-01</td>\n",
       "      <td>0</td>\n",
       "      <td>1</td>\n",
       "      <td>0</td>\n",
       "      <td>0</td>\n",
       "      <td>0</td>\n",
       "    </tr>\n",
       "    <tr>\n",
       "      <th>3</th>\n",
       "      <td>2025-02-02</td>\n",
       "      <td>38</td>\n",
       "      <td>39</td>\n",
       "      <td>0</td>\n",
       "      <td>0</td>\n",
       "      <td>0</td>\n",
       "    </tr>\n",
       "    <tr>\n",
       "      <th>4</th>\n",
       "      <td>2025-02-03</td>\n",
       "      <td>3462</td>\n",
       "      <td>7481</td>\n",
       "      <td>1264</td>\n",
       "      <td>356</td>\n",
       "      <td>473</td>\n",
       "    </tr>\n",
       "  </tbody>\n",
       "</table>\n",
       "</div>"
      ],
      "text/plain": [
       "   MerDateDay  Total errors  Total warnings  Total settings changed  \\\n",
       "0  2025-01-30          2983           10999                     862   \n",
       "1  2025-01-31          2618           12839                    1366   \n",
       "2  2025-02-01             0               1                       0   \n",
       "3  2025-02-02            38              39                       0   \n",
       "4  2025-02-03          3462            7481                    1264   \n",
       "\n",
       "   Total stops lane related  Total stops  \n",
       "0                       413          493  \n",
       "1                       247          312  \n",
       "2                         0            0  \n",
       "3                         0            0  \n",
       "4                       356          473  "
      ]
     },
     "execution_count": 15,
     "metadata": {},
     "output_type": "execute_result"
    }
   ],
   "source": [
    "# Convert MerDate to datetime if not already done\n",
    "test['MerDate'] = pd.to_datetime(test['MerDate'])\n",
    "\n",
    "# Extract the date part from MerDate\n",
    "test['MerDateDay'] = test['MerDate'].dt.date\n",
    "\n",
    "# Aggregate data by day and count the specified values of MerType\n",
    "aggregated_data = test.groupby('MerDateDay').apply(\n",
    "    lambda x: pd.Series({\n",
    "        'Total errors': (x['MerType'] == 21).sum(),\n",
    "        'Total warnings': (x['MerType'] == 23).sum(),\n",
    "        'Total settings changed': (x['MerType'] == 15).sum(),\n",
    "        'Total stops lane related': ((x['MerType'] == 8) & (x['MerNumber'] == 0) & (x['MerSubNumber'] == 2)).sum(), #we only want lane related errors MerSubNumber 2 is lane related\n",
    "        'Total stops': ((x['MerType'] == 8) & (x['MerNumber'] == 0)).sum()\n",
    "    })\n",
    ").reset_index()\n",
    "\n",
    "aggregated_data.head(5)"
   ]
  },
  {
   "cell_type": "markdown",
   "metadata": {},
   "source": [
    "Show distribution of total stops and errors for all days"
   ]
  },
  {
   "cell_type": "code",
   "execution_count": 16,
   "metadata": {},
   "outputs": [
    {
     "data": {
      "image/png": "[encoded data removed]",
      "text/plain": [
       "<Figure size 640x480 with 1 Axes>"
      ]
     },
     "metadata": {},
     "output_type": "display_data"
    }
   ],
   "source": [
    "plt.hist(aggregated_data['Total stops lane related'], bins=65)\n",
    "plt.title('Histogram of Total Stops lane related')\n",
    "plt.xlabel('Total Stops')\n",
    "plt.ylabel('Frequency')\n",
    "plt.show()"
   ]
  },
  {
   "cell_type": "code",
   "execution_count": 17,
   "metadata": {},
   "outputs": [
    {
     "data": {
      "image/png": "[encoded data removed]",
      "text/plain": [
       "<Figure size 640x480 with 1 Axes>"
      ]
     },
     "metadata": {},
     "output_type": "display_data"
    }
   ],
   "source": [
    "plt.hist(aggregated_data['Total stops'], bins=8)\n",
    "plt.title('Histogram of Total Stops')\n",
    "plt.xlabel('Total Stops')\n",
    "plt.ylabel('Frequency')\n",
    "plt.show()"
   ]
  },
  {
   "cell_type": "code",
   "execution_count": 18,
   "metadata": {},
   "outputs": [
    {
     "data": {
      "image/png": "[encoded data removed]",
      "text/plain": [
       "<Figure size 640x480 with 1 Axes>"
      ]
     },
     "metadata": {},
     "output_type": "display_data"
    }
   ],
   "source": [
    "plt.hist(aggregated_data['Total errors'], bins=8)\n",
    "plt.title('Histogram of Total Errors')\n",
    "plt.xlabel('Total Errors')\n",
    "plt.ylabel('Frequency')\n",
    "plt.show()"
   ]
  },
  {
   "cell_type": "markdown",
   "metadata": {},
   "source": [
    "Removing weekends to keep a dataset with only regular machine operation days"
   ]
  },
  {
   "cell_type": "code",
   "execution_count": 19,
   "metadata": {},
   "outputs": [],
   "source": [
    "# Convert MerDateDay to datetime if not already done\n",
    "test['MerDate'] = pd.to_datetime(test['MerDate'] )\n",
    "\n",
    "# Filter out weekend dates (Saturday and Sunday)\n",
    "test = test[~test['MerDate'].dt.weekday.isin([5, 6])]"
   ]
  },
  {
   "cell_type": "code",
   "execution_count": 20,
   "metadata": {},
   "outputs": [],
   "source": [
    "# export cleaned data\n",
    "df_cleaned = test\n",
    "df_cleaned.to_csv('cleaned_data.csv', index=False)"
   ]
  }
 ],
 "metadata": {
  "kernelspec": {
   "display_name": ".venv",
   "language": "python",
   "name": "python3"
  },
  "language_info": {
   "codemirror_mode": {
    "name": "ipython",
    "version": 3
   },
   "file_extension": ".py",
   "mimetype": "text/x-python",
   "name": "python",
   "nbconvert_exporter": "python",
   "pygments_lexer": "ipython3",
   "version": "3.13.2"
  }
 },
 "nbformat": 4,
 "nbformat_minor": 2
}
